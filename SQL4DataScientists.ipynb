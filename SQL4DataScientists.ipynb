{
  "nbformat": 4,
  "nbformat_minor": 0,
  "metadata": {
    "colab": {
      "provenance": [],
      "authorship_tag": "ABX9TyOsQzYCmpQOyyq24y0efiTX"
    },
    "kernelspec": {
      "name": "python3",
      "display_name": "Python 3"
    },
    "language_info": {
      "name": "python"
    }
  },
  "cells": [
    {
      "cell_type": "markdown",
      "source": [
        "#**SQL for Data Scientists**\n",
        "\n",
        "**SQL**, or Structured Query Language, is a powerful tool for data scientists who work with large datasets. **SQL** is a programming language that is designed specifically for managing and manipulating relational databases. It allows data scientists to query, analyze, and transform data quickly and efficiently, making it an essential tool for working with large datasets.\n",
        "\n",
        "One of the main advantages of SQL is its ability to handle large amounts of data. Data scientists often work with datasets that are too large to fit into memory, which can make analysis and manipulation difficult. **SQL** allows data scientists to work with data on disk, making it possible to manage and analyze datasets that are too large to fit into memory.\n",
        "\n",
        "**SQL** is also highly efficient. Because it is designed specifically for working with relational databases, SQL can perform complex queries and data transformations quickly and efficiently. This is especially important for data scientists who need to analyze large datasets quickly in order to identify patterns and trends.\n",
        "\n",
        "Another important feature of SQL is its ability to handle structured data. Many datasets used by data scientists are structured in a tabular format, which makes them easy to manage and analyze using SQL. SQL's ability to work with structured data makes it an ideal tool for data scientists who need to manage and analyze large datasets in a systematic and organized way.\n",
        "\n",
        "Finally, **SQL** is a widely used language, which means that there is a large community of developers and data scientists who are familiar with it. This community provides a wealth of resources, including tutorials, code samples, and forums, making it easier for data scientists to learn and use SQL effectively.\n",
        "\n",
        "In conclusion, **SQL** is an essential tool for data scientists who work with large datasets. Its ability to handle large amounts of data, its efficiency, its ability to handle structured data, and its wide adoption by the data science community make it a powerful tool for managing and analyzing data."
      ],
      "metadata": {
        "id": "btmy7vvqBi9z"
      }
    },
    {
      "cell_type": "markdown",
      "source": [
        "#**Retrieve data from a database**"
      ],
      "metadata": {
        "id": "dCLeKocKCVhB"
      }
    },
    {
      "cell_type": "code",
      "execution_count": null,
      "metadata": {
        "id": "FxxdJiHMBH-X"
      },
      "outputs": [],
      "source": [
        "# import necessary libraries\n",
        "import pandas as pd\n",
        "import sqlite3\n",
        "\n",
        "# connect to database\n",
        "conn = sqlite3.connect('example.db')\n",
        "\n",
        "# create cursor object\n",
        "cursor = conn.cursor()\n",
        "\n",
        "# execute SQL query\n",
        "query = \"SELECT * FROM table_name\"\n",
        "cursor.execute(query)\n",
        "\n",
        "# fetch all data and store in a pandas DataFrame\n",
        "data = cursor.fetchall()\n",
        "df = pd.DataFrame(data)\n",
        "\n",
        "# close cursor and connection to database\n",
        "cursor.close()\n",
        "conn.close()\n",
        "\n",
        "# print the first 5 rows of the DataFrame\n",
        "print(df.head())\n"
      ]
    },
    {
      "cell_type": "markdown",
      "source": [
        "In this example, we first import the necessary libraries: Pandas for data manipulation and SQLite3 for connecting to the database. We then connect to the database using the connect() method and create a cursor object using the cursor() method.\n",
        "\n",
        "We then execute an SQL query using the execute() method, which retrieves all the data from a table named table_name. We then fetch all the data using the fetchall() method and store it in a pandas DataFrame using the DataFrame() method.\n",
        "\n",
        "Finally, we close the cursor and connection to the database using the close() method and print the first 5 rows of the DataFrame using the head() method.\n",
        "\n",
        "Note that you will need to replace example.db with the name of your own database file and table_name with the name of the table you want to retrieve data from. You will also need to modify the SQL query to retrieve the data you need.\n",
        "\n",
        "\n",
        "\n",
        "\n",
        "\n",
        "\n",
        "\n"
      ],
      "metadata": {
        "id": "a6qEwjETCfwr"
      }
    },
    {
      "cell_type": "markdown",
      "source": [
        " #**Joining data with tables**\n",
        "\n",
        " "
      ],
      "metadata": {
        "id": "uBX5Mq1bBh9L"
      }
    },
    {
      "cell_type": "code",
      "source": [
        "# import necessary libraries\n",
        "import pandas as pd\n",
        "import sqlite3\n",
        "\n",
        "# connect to database\n",
        "conn = sqlite3.connect('example.db')\n",
        "\n",
        "# create cursor object\n",
        "cursor = conn.cursor()\n",
        "\n",
        "# execute SQL query to join data with table\n",
        "query = '''\n",
        "SELECT table_name.*, data.column_name\n",
        "FROM table_name\n",
        "INNER JOIN data\n",
        "ON table_name.id = data.id\n",
        "'''\n",
        "cursor.execute(query)\n",
        "\n",
        "# fetch all data and store in a pandas DataFrame\n",
        "data = cursor.fetchall()\n",
        "df = pd.DataFrame(data)\n",
        "\n",
        "# close cursor and connection to database\n",
        "cursor.close()\n",
        "conn.close()\n",
        "\n",
        "# print the first 5 rows of the DataFrame\n",
        "print(df.head())\n"
      ],
      "metadata": {
        "id": "6oAEQ2KvDYV6"
      },
      "execution_count": null,
      "outputs": []
    },
    {
      "cell_type": "markdown",
      "source": [
        "In this example, we first import the necessary libraries: Pandas for data manipulation and SQLite3 for connecting to the database. We then connect to the database using the \"connect()\" method and create a cursor object using the cursor() method.\n",
        "\n",
        "We then execute an SQL query using the \"execute()\" method, which joins data from a table named data with a table named table_name on the id column. We then fetch all the data using the \"fetchall()\" method and store it in a pandas DataFrame using the \"DataFrame()\" method.\n",
        "\n",
        "Finally, we close the cursor and connection to the database using the \"close()\" method and print the first 5 rows of the DataFrame using the \"head()\" method.\n",
        "\n",
        "Note that you will need to replace example.db with the name of your own database file and modify the SQL query to join the tables and columns you need."
      ],
      "metadata": {
        "id": "isv_xSr6DdVB"
      }
    },
    {
      "cell_type": "markdown",
      "source": [
        "#**Aggregate data**\n",
        "\n"
      ],
      "metadata": {
        "id": "9QePMQItEgCi"
      }
    },
    {
      "cell_type": "code",
      "source": [
        "# import necessary libraries\n",
        "import pandas as pd\n",
        "import sqlite3\n",
        "\n",
        "# connect to database\n",
        "conn = sqlite3.connect('example.db')\n",
        "\n",
        "# create cursor object\n",
        "cursor = conn.cursor()\n",
        "\n",
        "# execute SQL query to aggregate data\n",
        "query = '''\n",
        "SELECT column_name, SUM(sales) as total_sales, AVG(sales) as avg_sales\n",
        "FROM table_name\n",
        "GROUP BY column_name\n",
        "ORDER BY total_sales DESC\n",
        "'''\n",
        "cursor.execute(query)\n",
        "\n",
        "# fetch all data and store in a pandas DataFrame\n",
        "data = cursor.fetchall()\n",
        "df = pd.DataFrame(data, columns=['column_name', 'total_sales', 'avg_sales'])\n",
        "\n",
        "# close cursor and connection to database\n",
        "cursor.close()\n",
        "conn.close()\n",
        "\n",
        "# print the DataFrame\n",
        "print(df)\n"
      ],
      "metadata": {
        "id": "aEA9OEwwE9FZ"
      },
      "execution_count": null,
      "outputs": []
    },
    {
      "cell_type": "markdown",
      "source": [
        "In this example, we first import the necessary libraries: Pandas for data manipulation and SQLite3 for connecting to the database. We then connect to the database using the \"connect()\" method and create a cursor object using the \"cursor()\" method.\n",
        "\n",
        "We then execute an SQL query using the \"execute()\" method, which aggregates data from a table named table_name by a column named column_name, calculating the total sales and average sales for each group. We then fetch all the data using the \"fetchall()\" method and store it in a pandas DataFrame using the \"DataFrame()\" method.\n",
        "\n",
        "Finally, we close the cursor and connection to the database using the \"close()\" method and print the DataFrame containing the aggregated data.\n",
        "\n",
        "Note that you will need to replace example.db with the name of your own database file and modify the SQL query to aggregate the columns you need."
      ],
      "metadata": {
        "id": "NxUnTIfsFBxw"
      }
    },
    {
      "cell_type": "markdown",
      "source": [
        "#**Joins:**\n",
        "\n",
        "Joins are used to combine data from two or more tables into a single result set. Here is an example of an inner join using Python and SQL:"
      ],
      "metadata": {
        "id": "_0PVhiLQFqYo"
      }
    },
    {
      "cell_type": "code",
      "source": [
        "import pandas as pd\n",
        "import sqlite3\n",
        "\n",
        "conn = sqlite3.connect('database.db')\n",
        "\n",
        "query = '''\n",
        "SELECT *\n",
        "FROM table1\n",
        "INNER JOIN table2\n",
        "ON table1.id = table2.id\n",
        "'''\n",
        "\n",
        "df = pd.read_sql_query(query, conn)\n",
        "\n",
        "conn.close()\n",
        "\n",
        "print(df.head())\n"
      ],
      "metadata": {
        "id": "0FZ_zY-yKv8p"
      },
      "execution_count": null,
      "outputs": []
    },
    {
      "cell_type": "markdown",
      "source": [
        "#**Subqueries:**\n",
        "\n",
        "Subqueries are used to retrieve data from one or more tables based on values in another table. Here is an example of a subquery using Python and SQL:"
      ],
      "metadata": {
        "id": "m4C63ei5K2og"
      }
    },
    {
      "cell_type": "code",
      "source": [
        "import pandas as pd\n",
        "import sqlite3\n",
        "\n",
        "conn = sqlite3.connect('database.db')\n",
        "\n",
        "query = '''\n",
        "SELECT *\n",
        "FROM table1\n",
        "WHERE id IN (\n",
        "    SELECT id\n",
        "    FROM table2\n",
        "    WHERE value > 10\n",
        ")\n",
        "'''\n",
        "\n",
        "df = pd.read_sql_query(query, conn)\n",
        "\n",
        "conn.close()\n",
        "\n",
        "print(df.head())\n"
      ],
      "metadata": {
        "id": "KBDtTO6ILBbY"
      },
      "execution_count": null,
      "outputs": []
    },
    {
      "cell_type": "markdown",
      "source": [
        "#**Window functions:**\n",
        "\n",
        "Window functions are used to perform calculations on a set of rows that are related to the current row. Here is an example of a window function using Python and SQL:"
      ],
      "metadata": {
        "id": "JXGxkCnFLC-C"
      }
    },
    {
      "cell_type": "code",
      "source": [
        "import pandas as pd\n",
        "import sqlite3\n",
        "\n",
        "conn = sqlite3.connect('database.db')\n",
        "\n",
        "query = '''\n",
        "SELECT id, value, AVG(value) OVER (PARTITION BY id) as avg_value\n",
        "FROM table1\n",
        "'''\n",
        "\n",
        "df = pd.read_sql_query(query, conn)\n",
        "\n",
        "conn.close()\n",
        "\n",
        "print(df.head())\n"
      ],
      "metadata": {
        "id": "m3iRfbvXLM3o"
      },
      "execution_count": null,
      "outputs": []
    },
    {
      "cell_type": "markdown",
      "source": [
        "#**Pivot tables:**\n",
        "\n",
        "Pivot tables are used to summarize and aggregate data in a table. Here is an example of a pivot table using Python and SQL:"
      ],
      "metadata": {
        "id": "PFhjbrpBLVbH"
      }
    },
    {
      "cell_type": "code",
      "source": [
        "import pandas as pd\n",
        "import sqlite3\n",
        "\n",
        "conn = sqlite3.connect('database.db')\n",
        "\n",
        "query = '''\n",
        "SELECT category, year, SUM(sales) as total_sales\n",
        "FROM table1\n",
        "GROUP BY category, year\n",
        "'''\n",
        "\n",
        "df = pd.read_sql_query(query, conn)\n",
        "\n",
        "pivot_table = pd.pivot_table(df, values='total_sales', index='category', columns='year')\n",
        "\n",
        "conn.close()\n",
        "\n",
        "print(pivot_table.head())\n"
      ],
      "metadata": {
        "id": "kbuGz1-oLalo"
      },
      "execution_count": null,
      "outputs": []
    }
  ]
}